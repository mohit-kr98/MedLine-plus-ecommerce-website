{
  "nbformat": 4,
  "nbformat_minor": 0,
  "metadata": {
    "colab": {
      "name": "JobFlowTimeEstimation.ipynb",
      "provenance": [],
      "collapsed_sections": [],
      "authorship_tag": "ABX9TyMw61qcGNH8c36LfR5oKSz9",
      "include_colab_link": true
    },
    "kernelspec": {
      "name": "python3",
      "display_name": "Python 3"
    },
    "language_info": {
      "name": "python"
    }
  },
  "cells": [
    {
      "cell_type": "markdown",
      "metadata": {
        "id": "view-in-github",
        "colab_type": "text"
      },
      "source": [
        "<a href=\"https://colab.research.google.com/github/mohit-kr98/MedLine-plus-ecommerce-website/blob/master/JobFlowTimeEstimation.ipynb\" target=\"_parent\"><img src=\"https://colab.research.google.com/assets/colab-badge.svg\" alt=\"Open In Colab\"/></a>"
      ]
    },
    {
      "cell_type": "markdown",
      "metadata": {
        "id": "sWncSxyuUtW8"
      },
      "source": [
        "# **Importing**"
      ]
    },
    {
      "cell_type": "code",
      "metadata": {
        "id": "TXEGP_mkUFt0"
      },
      "source": [
        "# Pandas and numpy for data manipulation\n",
        "import pandas as pd\n",
        "import numpy as np\n",
        "np.random.seed(42)\n",
        "\n",
        " \n",
        "# Matplotlib and seaborn for plotting\n",
        "import matplotlib.pyplot as plt\n",
        "%matplotlib inline\n",
        "\n",
        "import matplotlib\n",
        "matplotlib.rcParams['font.size'] = 16\n",
        "matplotlib.rcParams['figure.figsize'] = (9, 9)\n",
        "\n",
        "import seaborn as sns\n",
        "\n",
        "from IPython.core.pylabtools import figsize\n",
        "\n",
        "# Scipy helper functions\n",
        "from scipy.stats import percentileofscore\n",
        "from scipy import stats"
      ],
      "execution_count": 27,
      "outputs": []
    },
    {
      "cell_type": "code",
      "metadata": {
        "id": "kdGBNSmaUHXL"
      },
      "source": [
        "\n",
        "# Standard ML Models for comparison\n",
        "from sklearn.linear_model import LinearRegression\n",
        "from sklearn.linear_model import ElasticNet\n",
        "from sklearn.ensemble import RandomForestRegressor\n",
        "from sklearn.ensemble import ExtraTreesRegressor\n",
        "from sklearn.ensemble import GradientBoostingRegressor\n",
        "from sklearn.svm import SVR\n",
        "\n",
        "# Splitting data into training/testing\n",
        "from sklearn.model_selection import train_test_split\n",
        "from sklearn.preprocessing import MinMaxScaler\n",
        "\n",
        "# Metrics\n",
        "from sklearn.metrics import mean_squared_error, mean_absolute_error, median_absolute_error\n",
        "\n",
        "# Distributions\n",
        "import scipy"
      ],
      "execution_count": 28,
      "outputs": []
    },
    {
      "cell_type": "code",
      "metadata": {
        "id": "6WF9lD3WUTCl"
      },
      "source": [
        "# PyMC3 for Bayesian Inference\n",
        "import pymc3 as pm\n",
        "from pymc3 import *"
      ],
      "execution_count": 29,
      "outputs": []
    },
    {
      "cell_type": "markdown",
      "metadata": {
        "id": "Uxwgx8qGUeZF"
      },
      "source": [
        "# **Reading Data**"
      ]
    },
    {
      "cell_type": "code",
      "metadata": {
        "colab": {
          "base_uri": "https://localhost:8080/",
          "height": 204
        },
        "id": "t1k-hDbfUWt-",
        "outputId": "cb3d398e-fe25-4a60-d2b9-e51a7bf01c3b"
      },
      "source": [
        "df = pd.read_csv('Data.csv')\n",
        "df.head()"
      ],
      "execution_count": 30,
      "outputs": [
        {
          "output_type": "execute_result",
          "data": {
            "text/html": [
              "<div>\n",
              "<style scoped>\n",
              "    .dataframe tbody tr th:only-of-type {\n",
              "        vertical-align: middle;\n",
              "    }\n",
              "\n",
              "    .dataframe tbody tr th {\n",
              "        vertical-align: top;\n",
              "    }\n",
              "\n",
              "    .dataframe thead th {\n",
              "        text-align: right;\n",
              "    }\n",
              "</style>\n",
              "<table border=\"1\" class=\"dataframe\">\n",
              "  <thead>\n",
              "    <tr style=\"text-align: right;\">\n",
              "      <th></th>\n",
              "      <th>processCount</th>\n",
              "      <th>TotalDatabaseCount</th>\n",
              "      <th>TotalTableCount</th>\n",
              "      <th>TotalRuleCount</th>\n",
              "      <th>TotalTimeTakenSeconds</th>\n",
              "    </tr>\n",
              "  </thead>\n",
              "  <tbody>\n",
              "    <tr>\n",
              "      <th>0</th>\n",
              "      <td>1</td>\n",
              "      <td>1</td>\n",
              "      <td>1</td>\n",
              "      <td>8</td>\n",
              "      <td>122</td>\n",
              "    </tr>\n",
              "    <tr>\n",
              "      <th>1</th>\n",
              "      <td>1</td>\n",
              "      <td>1</td>\n",
              "      <td>1</td>\n",
              "      <td>8</td>\n",
              "      <td>108</td>\n",
              "    </tr>\n",
              "    <tr>\n",
              "      <th>2</th>\n",
              "      <td>1</td>\n",
              "      <td>1</td>\n",
              "      <td>1</td>\n",
              "      <td>1</td>\n",
              "      <td>18</td>\n",
              "    </tr>\n",
              "    <tr>\n",
              "      <th>3</th>\n",
              "      <td>1</td>\n",
              "      <td>1</td>\n",
              "      <td>1</td>\n",
              "      <td>1</td>\n",
              "      <td>37</td>\n",
              "    </tr>\n",
              "    <tr>\n",
              "      <th>4</th>\n",
              "      <td>1</td>\n",
              "      <td>1</td>\n",
              "      <td>1</td>\n",
              "      <td>1</td>\n",
              "      <td>42</td>\n",
              "    </tr>\n",
              "  </tbody>\n",
              "</table>\n",
              "</div>"
            ],
            "text/plain": [
              "   processCount  TotalDatabaseCount  ...  TotalRuleCount  TotalTimeTakenSeconds\n",
              "0             1                   1  ...               8                    122\n",
              "1             1                   1  ...               8                    108\n",
              "2             1                   1  ...               1                     18\n",
              "3             1                   1  ...               1                     37\n",
              "4             1                   1  ...               1                     42\n",
              "\n",
              "[5 rows x 5 columns]"
            ]
          },
          "metadata": {
            "tags": []
          },
          "execution_count": 30
        }
      ]
    },
    {
      "cell_type": "code",
      "metadata": {
        "colab": {
          "base_uri": "https://localhost:8080/"
        },
        "id": "mDld4VSqVbbB",
        "outputId": "47a74f53-a2c7-4fe2-b940-64a428ff1f6b"
      },
      "source": [
        "df.shape"
      ],
      "execution_count": 31,
      "outputs": [
        {
          "output_type": "execute_result",
          "data": {
            "text/plain": [
              "(1921, 5)"
            ]
          },
          "metadata": {
            "tags": []
          },
          "execution_count": 31
        }
      ]
    },
    {
      "cell_type": "code",
      "metadata": {
        "colab": {
          "base_uri": "https://localhost:8080/",
          "height": 317
        },
        "id": "_ZI88QYvVfrx",
        "outputId": "9cc75730-4d99-417e-e4df-2b6e32821b21"
      },
      "source": [
        "df.describe()"
      ],
      "execution_count": 32,
      "outputs": [
        {
          "output_type": "execute_result",
          "data": {
            "text/html": [
              "<div>\n",
              "<style scoped>\n",
              "    .dataframe tbody tr th:only-of-type {\n",
              "        vertical-align: middle;\n",
              "    }\n",
              "\n",
              "    .dataframe tbody tr th {\n",
              "        vertical-align: top;\n",
              "    }\n",
              "\n",
              "    .dataframe thead th {\n",
              "        text-align: right;\n",
              "    }\n",
              "</style>\n",
              "<table border=\"1\" class=\"dataframe\">\n",
              "  <thead>\n",
              "    <tr style=\"text-align: right;\">\n",
              "      <th></th>\n",
              "      <th>processCount</th>\n",
              "      <th>TotalDatabaseCount</th>\n",
              "      <th>TotalTableCount</th>\n",
              "      <th>TotalRuleCount</th>\n",
              "      <th>TotalTimeTakenSeconds</th>\n",
              "    </tr>\n",
              "  </thead>\n",
              "  <tbody>\n",
              "    <tr>\n",
              "      <th>count</th>\n",
              "      <td>1921.000000</td>\n",
              "      <td>1921.000000</td>\n",
              "      <td>1921.000000</td>\n",
              "      <td>1921.000000</td>\n",
              "      <td>1921.000000</td>\n",
              "    </tr>\n",
              "    <tr>\n",
              "      <th>mean</th>\n",
              "      <td>1.702238</td>\n",
              "      <td>1.702238</td>\n",
              "      <td>11.475794</td>\n",
              "      <td>13.560125</td>\n",
              "      <td>2607.415929</td>\n",
              "    </tr>\n",
              "    <tr>\n",
              "      <th>std</th>\n",
              "      <td>0.457393</td>\n",
              "      <td>0.457393</td>\n",
              "      <td>31.661928</td>\n",
              "      <td>25.014926</td>\n",
              "      <td>2557.707528</td>\n",
              "    </tr>\n",
              "    <tr>\n",
              "      <th>min</th>\n",
              "      <td>1.000000</td>\n",
              "      <td>1.000000</td>\n",
              "      <td>1.000000</td>\n",
              "      <td>0.000000</td>\n",
              "      <td>7.000000</td>\n",
              "    </tr>\n",
              "    <tr>\n",
              "      <th>25%</th>\n",
              "      <td>1.000000</td>\n",
              "      <td>1.000000</td>\n",
              "      <td>2.000000</td>\n",
              "      <td>12.000000</td>\n",
              "      <td>173.000000</td>\n",
              "    </tr>\n",
              "    <tr>\n",
              "      <th>50%</th>\n",
              "      <td>2.000000</td>\n",
              "      <td>2.000000</td>\n",
              "      <td>8.000000</td>\n",
              "      <td>13.000000</td>\n",
              "      <td>1837.000000</td>\n",
              "    </tr>\n",
              "    <tr>\n",
              "      <th>75%</th>\n",
              "      <td>2.000000</td>\n",
              "      <td>2.000000</td>\n",
              "      <td>8.000000</td>\n",
              "      <td>14.000000</td>\n",
              "      <td>4117.000000</td>\n",
              "    </tr>\n",
              "    <tr>\n",
              "      <th>max</th>\n",
              "      <td>2.000000</td>\n",
              "      <td>2.000000</td>\n",
              "      <td>544.000000</td>\n",
              "      <td>499.000000</td>\n",
              "      <td>20262.000000</td>\n",
              "    </tr>\n",
              "  </tbody>\n",
              "</table>\n",
              "</div>"
            ],
            "text/plain": [
              "       processCount  TotalDatabaseCount  ...  TotalRuleCount  TotalTimeTakenSeconds\n",
              "count   1921.000000         1921.000000  ...     1921.000000            1921.000000\n",
              "mean       1.702238            1.702238  ...       13.560125            2607.415929\n",
              "std        0.457393            0.457393  ...       25.014926            2557.707528\n",
              "min        1.000000            1.000000  ...        0.000000               7.000000\n",
              "25%        1.000000            1.000000  ...       12.000000             173.000000\n",
              "50%        2.000000            2.000000  ...       13.000000            1837.000000\n",
              "75%        2.000000            2.000000  ...       14.000000            4117.000000\n",
              "max        2.000000            2.000000  ...      499.000000           20262.000000\n",
              "\n",
              "[8 rows x 5 columns]"
            ]
          },
          "metadata": {
            "tags": []
          },
          "execution_count": 32
        }
      ]
    },
    {
      "cell_type": "code",
      "metadata": {
        "colab": {
          "base_uri": "https://localhost:8080/",
          "height": 582
        },
        "id": "cI0ClQUfVnbh",
        "outputId": "a4cc2b12-2301-41c0-d417-cd85cd9871f3"
      },
      "source": [
        "\n",
        "# Bar plot of grades\n",
        "plt.bar(df['TotalTimeTakenSeconds'].value_counts().index, \n",
        "        df['TotalTimeTakenSeconds'].value_counts().values,\n",
        "         fill = 'navy', edgecolor = 'k', width = 1)\n",
        "plt.xlabel('TotalTimeTakenSeconds'); plt.ylabel('Count'); plt.title('Distribution');\n",
        "plt.xticks(list(range(10, 2000)));"
      ],
      "execution_count": 33,
      "outputs": [
        {
          "output_type": "display_data",
          "data": {
            "image/png": "[encoded data removed]",
            "text/plain": [
              "<Figure size 648x648 with 1 Axes>"
            ]
          },
          "metadata": {
            "tags": [],
            "needs_background": "light"
          }
        }
      ]
    },
    {
      "cell_type": "code",
      "metadata": {
        "id": "qqMPDD5JYb8L"
      },
      "source": [
        "# Split into training/testing sets with 20% split\n",
        "labels=df['TotalTimeTakenSeconds']\n",
        "X_train, X_test, y_train, y_test = train_test_split(df, labels,test_size = 0.2,random_state=42)"
      ],
      "execution_count": 34,
      "outputs": []
    },
    {
      "cell_type": "markdown",
      "metadata": {
        "id": "6RKyCO6LX4TY"
      },
      "source": [
        "# **Establish Benchmarks**"
      ]
    },
    {
      "cell_type": "code",
      "metadata": {
        "id": "vB5bpmHaXUjV"
      },
      "source": [
        "# Calculate mae and rmse\n",
        "def evaluate_predictions(predictions, true):\n",
        "    mae = np.mean(abs(predictions - true))\n",
        "    rmse = np.sqrt(np.mean((predictions - true) ** 2))\n",
        "    \n",
        "    return mae, rmse"
      ],
      "execution_count": 35,
      "outputs": []
    },
    {
      "cell_type": "code",
      "metadata": {
        "id": "6zL-KhaJYEOD"
      },
      "source": [
        "\n",
        "# Naive baseline is the median\n",
        "median_pred = X_train['TotalTimeTakenSeconds'].median()\n",
        "median_preds = [median_pred for _ in range(len(X_test))]\n",
        "true = X_test['TotalTimeTakenSeconds']"
      ],
      "execution_count": 36,
      "outputs": []
    },
    {
      "cell_type": "code",
      "metadata": {
        "colab": {
          "base_uri": "https://localhost:8080/"
        },
        "id": "4tlz1xeHZVYA",
        "outputId": "2332b52a-740a-40c2-c03c-3658d2db60ae"
      },
      "source": [
        "# Display the naive baseline metrics\n",
        "mb_mae, mb_rmse = evaluate_predictions(median_preds, true)\n",
        "print('Median Baseline  MAE: {:.4f}'.format(mb_mae))\n",
        "print('Median Baseline RMSE: {:.4f}'.format(mb_rmse))"
      ],
      "execution_count": 37,
      "outputs": [
        {
          "output_type": "stream",
          "text": [
            "Median Baseline  MAE: 2149.0078\n",
            "Median Baseline RMSE: 2629.9070\n"
          ],
          "name": "stdout"
        }
      ]
    },
    {
      "cell_type": "markdown",
      "metadata": {
        "id": "dsNSM9FgZdbx"
      },
      "source": [
        "# **Standard Machine Learning Models**"
      ]
    },
    {
      "cell_type": "code",
      "metadata": {
        "id": "JNkfxGquZfI7"
      },
      "source": [
        "# Evaluate several ml models by training on training set and testing on testing set\n",
        "def evaluate(X_train, X_test, y_train, y_test):\n",
        "    # Names of models\n",
        "    model_name_list = ['Linear Regression', 'ElasticNet Regression',\n",
        "                      'Random Forest', 'Extra Trees', 'SVM',\n",
        "                       'Gradient Boosted', 'Baseline']\n",
        "    X_train = X_train.drop(columns='TotalTimeTakenSeconds')\n",
        "    X_test = X_test.drop(columns='TotalTimeTakenSeconds')\n",
        "\n",
        "     # Instantiate the models\n",
        "    model1 = LinearRegression()\n",
        "    model2 = ElasticNet(alpha=1.0, l1_ratio=0.5)\n",
        "    model3 = RandomForestRegressor(n_estimators=50)\n",
        "    model4 = ExtraTreesRegressor(n_estimators=50)\n",
        "    model5 = SVR(kernel='rbf', degree=3, C=1.0, gamma='auto')\n",
        "    model6 = GradientBoostingRegressor(n_estimators=20)\n",
        "\n",
        "     # Dataframe for results\n",
        "    results = pd.DataFrame(columns=['MAE', 'RMSE'], index = model_name_list)\n",
        "\n",
        "     # Train and predict with each model\n",
        "    for i, model in enumerate([model1, model2, model3, model4, model5, model6]):\n",
        "        model.fit(X_train, y_train)\n",
        "        predictions = model.predict(X_test)\n",
        "        # Metrics\n",
        "        mae = np.mean(abs(predictions - y_test))\n",
        "        rmse = np.sqrt(np.mean((predictions - y_test) ** 2))\n",
        "      \n",
        "        print(model_name_list[i])\n",
        "        print(\"MAE: \",mae,\"\\nRMSE: \",rmse,\"\\n\")\n",
        "      \n",
        "      #Insert results into the dataframe\n",
        "        model_name = model_name_list[i]\n",
        "      \n",
        "      # Insert results into the dataframe\n",
        "        model_name = model_name_list[i]\n",
        "        results.loc[model_name, :] = [mae, rmse]\n",
        "    \n",
        "       \n",
        "    # Median Value Baseline Metrics\n",
        "    baseline = np.median(y_train)\n",
        "    baseline_mae = np.mean(abs(baseline - y_test))\n",
        "    baseline_rmse = np.sqrt(np.mean((baseline - y_test) ** 2))\n",
        "    \n",
        "    results.loc['Baseline', :] = [baseline_mae, baseline_rmse]\n",
        "    return results\n",
        "    "
      ],
      "execution_count": 38,
      "outputs": []
    },
    {
      "cell_type": "code",
      "metadata": {
        "colab": {
          "base_uri": "https://localhost:8080/"
        },
        "id": "fFfhbNY-aQqY",
        "outputId": "fd0f8b75-d6b8-4911-9255-860ff86f592c"
      },
      "source": [
        "#results = evaluate(X_train, X_test, y_train, y_test)\n",
        "results=evaluate(X_train, X_test, y_train, y_test)"
      ],
      "execution_count": 39,
      "outputs": [
        {
          "output_type": "stream",
          "text": [
            "Linear Regression\n",
            "MAE:  1343.635280229602 \n",
            "RMSE:  1928.1887271768767 \n",
            "\n",
            "ElasticNet Regression\n",
            "MAE:  1761.8965349554041 \n",
            "RMSE:  2125.8708342505793 \n",
            "\n",
            "Random Forest\n",
            "MAE:  1047.954560955073 \n",
            "RMSE:  1594.328374140012 \n",
            "\n",
            "Extra Trees\n",
            "MAE:  1046.5210421719678 \n",
            "RMSE:  1593.9210261196022 \n",
            "\n",
            "SVM\n",
            "MAE:  2035.1582078901938 \n",
            "RMSE:  2477.4070655000446 \n",
            "\n",
            "Gradient Boosted\n",
            "MAE:  1150.7318921757853 \n",
            "RMSE:  1623.7778901709544 \n",
            "\n"
          ],
          "name": "stdout"
        }
      ]
    },
    {
      "cell_type": "code",
      "metadata": {
        "colab": {
          "base_uri": "https://localhost:8080/",
          "height": 266
        },
        "id": "GECuwgzmmhqN",
        "outputId": "5597772a-a76b-4d7f-8af7-786e629be51c"
      },
      "source": [
        "results"
      ],
      "execution_count": 40,
      "outputs": [
        {
          "output_type": "execute_result",
          "data": {
            "text/html": [
              "<div>\n",
              "<style scoped>\n",
              "    .dataframe tbody tr th:only-of-type {\n",
              "        vertical-align: middle;\n",
              "    }\n",
              "\n",
              "    .dataframe tbody tr th {\n",
              "        vertical-align: top;\n",
              "    }\n",
              "\n",
              "    .dataframe thead th {\n",
              "        text-align: right;\n",
              "    }\n",
              "</style>\n",
              "<table border=\"1\" class=\"dataframe\">\n",
              "  <thead>\n",
              "    <tr style=\"text-align: right;\">\n",
              "      <th></th>\n",
              "      <th>MAE</th>\n",
              "      <th>RMSE</th>\n",
              "    </tr>\n",
              "  </thead>\n",
              "  <tbody>\n",
              "    <tr>\n",
              "      <th>Linear Regression</th>\n",
              "      <td>1343.64</td>\n",
              "      <td>1928.19</td>\n",
              "    </tr>\n",
              "    <tr>\n",
              "      <th>ElasticNet Regression</th>\n",
              "      <td>1761.9</td>\n",
              "      <td>2125.87</td>\n",
              "    </tr>\n",
              "    <tr>\n",
              "      <th>Random Forest</th>\n",
              "      <td>1047.95</td>\n",
              "      <td>1594.33</td>\n",
              "    </tr>\n",
              "    <tr>\n",
              "      <th>Extra Trees</th>\n",
              "      <td>1046.52</td>\n",
              "      <td>1593.92</td>\n",
              "    </tr>\n",
              "    <tr>\n",
              "      <th>SVM</th>\n",
              "      <td>2035.16</td>\n",
              "      <td>2477.41</td>\n",
              "    </tr>\n",
              "    <tr>\n",
              "      <th>Gradient Boosted</th>\n",
              "      <td>1150.73</td>\n",
              "      <td>1623.78</td>\n",
              "    </tr>\n",
              "    <tr>\n",
              "      <th>Baseline</th>\n",
              "      <td>2149.01</td>\n",
              "      <td>2629.91</td>\n",
              "    </tr>\n",
              "  </tbody>\n",
              "</table>\n",
              "</div>"
            ],
            "text/plain": [
              "                           MAE     RMSE\n",
              "Linear Regression      1343.64  1928.19\n",
              "ElasticNet Regression   1761.9  2125.87\n",
              "Random Forest          1047.95  1594.33\n",
              "Extra Trees            1046.52  1593.92\n",
              "SVM                    2035.16  2477.41\n",
              "Gradient Boosted       1150.73  1623.78\n",
              "Baseline               2149.01  2629.91"
            ]
          },
          "metadata": {
            "tags": []
          },
          "execution_count": 40
        }
      ]
    },
    {
      "cell_type": "markdown",
      "metadata": {
        "id": "LcAe6F1WsnYW"
      },
      "source": [
        "**Visual Comparison of Models**"
      ]
    },
    {
      "cell_type": "code",
      "metadata": {
        "colab": {
          "base_uri": "https://localhost:8080/",
          "height": 499
        },
        "id": "d-n4FbucsqQl",
        "outputId": "160a01fe-7262-4caa-d450-4caf0579ace9"
      },
      "source": [
        "figsize(12, 8)\n",
        "matplotlib.rcParams['font.size'] = 16\n",
        "# Root mean squared error\n",
        "ax =  plt.subplot(1, 2, 1)\n",
        "results.sort_values('MAE', ascending = True).plot.bar(y = 'MAE', color = 'b', ax = ax)\n",
        "plt.title('Model Mean Absolute Error'); plt.ylabel('MAE');\n",
        "\n",
        "# Median absolute percentage error\n",
        "ax = plt.subplot(1, 2, 2)\n",
        "results.sort_values('RMSE', ascending = True).plot.bar(y = 'RMSE', color = 'r', ax = ax)\n",
        "plt.title('Model Root Mean Squared Error'); plt.ylabel('RMSE');\n",
        "\n",
        "plt.tight_layout()"
      ],
      "execution_count": 41,
      "outputs": [
        {
          "output_type": "display_data",
          "data": {
            "image/png": "[encoded data removed]",
            "text/plain": [
              "<Figure size 864x576 with 2 Axes>"
            ]
          },
          "metadata": {
            "tags": [],
            "needs_background": "light"
          }
        }
      ]
    },
    {
      "cell_type": "code",
      "metadata": {
        "colab": {
          "base_uri": "https://localhost:8080/"
        },
        "id": "Kal5TrGht-Dl",
        "outputId": "d2f0fdd3-ae44-4b27-e1c0-c5e9880c6123"
      },
      "source": [
        "\n",
        "print('The Gradient Boosted regressor is {:0.2f}% better than the baseline.'.format(\n",
        "    (100 * abs(results.loc['Gradient Boosted', 'MAE'] - results.loc['Baseline', 'MAE'])) / results.loc['Baseline', 'MAE']))"
      ],
      "execution_count": 42,
      "outputs": [
        {
          "output_type": "stream",
          "text": [
            "The Gradient Boosted regressor is 46.45% better than the baseline.\n"
          ],
          "name": "stdout"
        }
      ]
    },
    {
      "cell_type": "markdown",
      "metadata": {
        "id": "HV2j3yoovq-S"
      },
      "source": [
        "Implementing Bayesian Linear Regression"
      ]
    },
    {
      "cell_type": "code",
      "metadata": {
        "colab": {
          "base_uri": "https://localhost:8080/",
          "height": 52
        },
        "id": "DGxWZFq_vimZ",
        "outputId": "6f88033a-2940-4388-f2c1-3a63a33b1175"
      },
      "source": [
        "# Formula for Bayesian Linear Regression (follows R formula syntax\n",
        "formula = 'TotalTimeTakenSeconds ~' + ' + '.join(['%s' % variable for variable in X_train.columns[1:]])\n",
        "formula"
      ],
      "execution_count": 43,
      "outputs": [
        {
          "output_type": "execute_result",
          "data": {
            "application/vnd.google.colaboratory.intrinsic+json": {
              "type": "string"
            },
            "text/plain": [
              "'TotalTimeTakenSeconds ~TotalDatabaseCount + TotalTableCount + TotalRuleCount + TotalTimeTakenSeconds'"
            ]
          },
          "metadata": {
            "tags": []
          },
          "execution_count": 43
        }
      ]
    },
    {
      "cell_type": "markdown",
      "metadata": {
        "id": "CrRCA79PwWRm"
      },
      "source": [
        "\n",
        "Create Model in PyMC3 and Sample from Posterior"
      ]
    },
    {
      "cell_type": "code",
      "metadata": {
        "id": "YpPHFYomn2D3"
      },
      "source": [
        "%matplotlib inline\n",
        "x1 = df.drop(columns='TotalTimeTakenSeconds')\n",
        "y1 = df.iloc[:,:-1]\n",
        "with Model() as model:\n",
        "  #Defining pripors\n",
        "  sigma=HalfCauchy('sigma',beta=10,testval=1)\n",
        "  intercept=Normal('Intercept',0,sd=20)\n",
        "  x_coeff=Normal('x1',0,sd=20)\n",
        "  #Defining Liklihood\n",
        "  liklihood=Normal('y1',mu=intercept+x_coeff*x1,sd=sigma,observed=y1)\n",
        "  #Inference\n",
        "  trace=sample(progressbar=true)"
      ],
      "execution_count": null,
      "outputs": []
    },
    {
      "cell_type": "code",
      "metadata": {
        "colab": {
          "base_uri": "https://localhost:8080/"
        },
        "id": "40DcjdAswY0c",
        "outputId": "832f7692-09fd-4a06-c1de-d82a4725d3cc"
      },
      "source": [
        "# Context for the model\n",
        "with pm.Model() as normal_model:\n",
        "    \n",
        "    # The prior for the model parameters will be a normal distribution\n",
        "    family = pm.glm.families.Normal()\n",
        "    # Creating the model requires a formula and data (and optionally a family)\n",
        "    pm.GLM.from_formula(formula, data = X_train, family = family)\n",
        "    \n",
        "    # Perform Markov Chain Monte Carlo sampling\n",
        "    normal_trace = pm.sample(draws=2000, chains = 2, tune = 500,init=\"adapt_diag\")"
      ],
      "execution_count": 76,
      "outputs": [
        {
          "output_type": "stream",
          "text": [
            "Auto-assigning NUTS sampler...\n",
            "Initializing NUTS using adapt_diag...\n",
            "Sequential sampling (2 chains in 1 job)\n",
            "NUTS: [sd, TotalTimeTakenSeconds, TotalRuleCount, TotalTableCount, TotalDatabaseCount, Intercept]\n",
            "100%|██████████| 2500/2500 [00:01<00:00, 1310.90it/s]\n",
            "100%|██████████| 2500/2500 [00:01<00:00, 1347.37it/s]\n",
            "There were 833 divergences after tuning. Increase `target_accept` or reparameterize.\n",
            "There were 1764 divergences after tuning. Increase `target_accept` or reparameterize.\n",
            "The gelman-rubin statistic is larger than 1.4 for some parameters. The sampler did not converge.\n",
            "The estimated number of effective samples is smaller than 200 for some parameters.\n"
          ],
          "name": "stderr"
        }
      ]
    },
    {
      "cell_type": "markdown",
      "metadata": {
        "id": "ZSBDagzP5FCi"
      },
      "source": [
        "Traceplot of All Samples"
      ]
    },
    {
      "cell_type": "code",
      "metadata": {
        "id": "egEw_QH-5GKr"
      },
      "source": [
        "# Shows the trace with a vertical line at the mean of the trace\n",
        "def plot_trace(trace):\n",
        "    # Traceplot with vertical lines at the mean value\n",
        "    ax = pm.traceplot(trace, figsize=(14, len(trace.varnames)*1.8),\n",
        "                      lines={k: v['mean'] for k, v in pm.df_summary(trace).iterrows()})\n",
        "    \n",
        "    matplotlib.rcParams['font.size'] = 16\n",
        "    \n",
        "    # Labels with the median value\n",
        "    for i, mn in enumerate(pm.df_summary(trace)['mean']):\n",
        "        ax[i, 0].annotate('{:0.2f}'.format(mn), xy = (mn, 0), xycoords = 'data', size = 8,\n",
        "                          xytext = (-18, 18), textcoords = 'offset points', rotation = 90,\n",
        "                          va = 'bottom', fontsize = 'large', color = 'red')"
      ],
      "execution_count": 78,
      "outputs": []
    },
    {
      "cell_type": "code",
      "metadata": {
        "id": "8k7HbjKz5Kmt"
      },
      "source": [
        "plot_trace(normal_trace);"
      ],
      "execution_count": null,
      "outputs": []
    },
    {
      "cell_type": "code",
      "metadata": {
        "id": "K5yytaTywFdv"
      },
      "source": [
        "!apt install pymc3[plots] -q"
      ],
      "execution_count": null,
      "outputs": []
    },
    {
      "cell_type": "code",
      "metadata": {
        "id": "pGn-yrO65Qzb"
      },
      "source": [
        "pm.traceplot(normal_trace);"
      ],
      "execution_count": null,
      "outputs": []
    },
    {
      "cell_type": "code",
      "metadata": {
        "id": "Rf-eVQGc5Rd2"
      },
      "source": [
        "pm.forestplot(normal_trace);"
      ],
      "execution_count": null,
      "outputs": []
    },
    {
      "cell_type": "code",
      "metadata": {
        "id": "tOK4znnf5Upe"
      },
      "source": [
        "pm.plot_posterior(normal_trace, figsize = (14, 14), text_size=20);"
      ],
      "execution_count": null,
      "outputs": []
    },
    {
      "cell_type": "code",
      "metadata": {
        "colab": {
          "base_uri": "https://localhost:8080/"
        },
        "id": "ygX1udph5Xvb",
        "outputId": "17012b52-5cfb-4dc9-e41e-457dbbf1fcb9"
      },
      "source": [
        "# Print out the mean variable weight from the trace\n",
        "for variable in normal_trace.varnames:\n",
        "    print('Variable: {:15} Mean weight in model: {:.4f}'.format(variable, \n",
        "                                                                np.mean(normal_trace[variable])))"
      ],
      "execution_count": 96,
      "outputs": [
        {
          "output_type": "stream",
          "text": [
            "Variable: Intercept       Mean weight in model: 0.0000\n",
            "Variable: TotalDatabaseCount Mean weight in model: 0.0000\n",
            "Variable: TotalTableCount Mean weight in model: 0.0000\n",
            "Variable: TotalRuleCount  Mean weight in model: 0.0000\n",
            "Variable: TotalTimeTakenSeconds Mean weight in model: 0.2721\n",
            "Variable: sd_log__        Mean weight in model: 0.0436\n",
            "Variable: sd              Mean weight in model: 1.0451\n"
          ],
          "name": "stdout"
        }
      ]
    },
    {
      "cell_type": "code",
      "metadata": {
        "id": "nNou8UuU5gjs"
      },
      "source": [
        "\n",
        "pm.df_summary(normal_trace)"
      ],
      "execution_count": null,
      "outputs": []
    },
    {
      "cell_type": "markdown",
      "metadata": {
        "id": "ywECMqQm5zK3"
      },
      "source": [
        "**Evaluate Bayesian Model Using Mean of Model Parameters**"
      ]
    },
    {
      "cell_type": "code",
      "metadata": {
        "id": "ATdEM2LU51q2"
      },
      "source": [
        "# Evalute the MCMC trace and compare to ml models\n",
        "def evaluate_trace(trace, X_train, X_test, y_train, y_test, model_results):\n",
        "    \n",
        "    # Dictionary of all sampled values for each parameter\n",
        "    var_dict = {}\n",
        "    for variable in trace.varnames:\n",
        "        var_dict[variable] = trace[variable]\n",
        "        \n",
        "    # Results into a dataframe\n",
        "    var_weights = pd.DataFrame(var_dict)\n",
        "    \n",
        "    # Means for all the weights\n",
        "    var_means = var_weights.mean(axis=0)\n",
        "    \n",
        "    # Create an intercept column\n",
        "    X_test['Intercept'] = 1\n",
        "    \n",
        "    # Align names of the test observations and means\n",
        "    names = X_test.columns[1:]\n",
        "    X_test = X_test.loc[:, names]\n",
        "    var_means = var_means[names]\n",
        "    \n",
        "    # Calculate estimate for each test observation using the average weights\n",
        "    results = pd.DataFrame(index = X_test.index, columns = ['estimate'])\n",
        "\n",
        "    for row in X_test.iterrows():\n",
        "        results.loc[row[0], 'estimate'] = np.dot(np.array(var_means), np.array(row[1]))\n",
        "        \n",
        "    # Metrics \n",
        "    actual = np.array(y_test)\n",
        "    errors = results['estimate'] - actual\n",
        "    mae = np.mean(abs(errors))\n",
        "    rmse = np.sqrt(np.mean(errors ** 2))\n",
        "    \n",
        "    print('Model  MAE: {:.4f}\\nModel RMSE: {:.4f}'.format(mae, rmse))\n",
        "    \n",
        "    # Add the results to the comparison dataframe\n",
        "    model_results.loc['Bayesian LR', :] = [mae, rmse]\n",
        "    \n",
        "    plt.figure(figsize=(12, 8))\n",
        "    \n",
        "    # Plot median absolute percentage error of all models\n",
        "    ax = plt.subplot(1, 2, 1)\n",
        "    model_results.sort_values('MAE', ascending = True).plot.bar(y = 'MAE', color = 'r', ax = ax)\n",
        "    plt.title('Model Mean Absolute Error Comparison'); plt.ylabel('MAE'); \n",
        "    plt.tight_layout()\n",
        "    \n",
        "    # Plot root mean squared error of all models\n",
        "    ax = plt.subplot(1, 2, 2)\n",
        "    model_results.sort_values('RMSE', ascending = True).plot.bar(y = 'RMSE', color = 'b', ax = ax)\n",
        "    plt.title('Model RMSE Comparison'); plt.ylabel('RMSE')\n",
        "    \n",
        "    return model_results"
      ],
      "execution_count": 102,
      "outputs": []
    },
    {
      "cell_type": "code",
      "metadata": {
        "colab": {
          "base_uri": "https://localhost:8080/",
          "height": 659
        },
        "id": "zi21RDGt6IRN",
        "outputId": "1932d3c6-3cd1-4623-e665-8c654d82f9c3"
      },
      "source": [
        "all_model_results = evaluate_trace(normal_trace, X_train, X_test, y_train, y_test, results)"
      ],
      "execution_count": 103,
      "outputs": [
        {
          "output_type": "stream",
          "text": [
            "/usr/local/lib/python3.7/dist-packages/ipykernel_launcher.py:16: SettingWithCopyWarning: \n",
            "A value is trying to be set on a copy of a slice from a DataFrame.\n",
            "Try using .loc[row_indexer,col_indexer] = value instead\n",
            "\n",
            "See the caveats in the documentation: https://pandas.pydata.org/pandas-docs/stable/user_guide/indexing.html#returning-a-view-versus-a-copy\n",
            "  app.launch_new_instance()\n"
          ],
          "name": "stderr"
        },
        {
          "output_type": "stream",
          "text": [
            "Model  MAE: 1897.1721\n",
            "Model RMSE: 2635.2838\n"
          ],
          "name": "stdout"
        },
        {
          "output_type": "display_data",
          "data": {
            "image/png": "[encoded data removed]",
            "text/plain": [
              "<Figure size 864x576 with 2 Axes>"
            ]
          },
          "metadata": {
            "tags": [],
            "needs_background": "light"
          }
        }
      ]
    },
    {
      "cell_type": "code",
      "metadata": {
        "colab": {
          "base_uri": "https://localhost:8080/",
          "height": 297
        },
        "id": "M-s2FdrT6L8t",
        "outputId": "0aa35701-f962-43e4-a76d-7e6a2c677a36"
      },
      "source": [
        "all_model_results"
      ],
      "execution_count": 104,
      "outputs": [
        {
          "output_type": "execute_result",
          "data": {
            "text/html": [
              "<div>\n",
              "<style scoped>\n",
              "    .dataframe tbody tr th:only-of-type {\n",
              "        vertical-align: middle;\n",
              "    }\n",
              "\n",
              "    .dataframe tbody tr th {\n",
              "        vertical-align: top;\n",
              "    }\n",
              "\n",
              "    .dataframe thead th {\n",
              "        text-align: right;\n",
              "    }\n",
              "</style>\n",
              "<table border=\"1\" class=\"dataframe\">\n",
              "  <thead>\n",
              "    <tr style=\"text-align: right;\">\n",
              "      <th></th>\n",
              "      <th>MAE</th>\n",
              "      <th>RMSE</th>\n",
              "    </tr>\n",
              "  </thead>\n",
              "  <tbody>\n",
              "    <tr>\n",
              "      <th>Linear Regression</th>\n",
              "      <td>1343.64</td>\n",
              "      <td>1928.19</td>\n",
              "    </tr>\n",
              "    <tr>\n",
              "      <th>ElasticNet Regression</th>\n",
              "      <td>1761.9</td>\n",
              "      <td>2125.87</td>\n",
              "    </tr>\n",
              "    <tr>\n",
              "      <th>Random Forest</th>\n",
              "      <td>1047.95</td>\n",
              "      <td>1594.33</td>\n",
              "    </tr>\n",
              "    <tr>\n",
              "      <th>Extra Trees</th>\n",
              "      <td>1046.52</td>\n",
              "      <td>1593.92</td>\n",
              "    </tr>\n",
              "    <tr>\n",
              "      <th>SVM</th>\n",
              "      <td>2035.16</td>\n",
              "      <td>2477.41</td>\n",
              "    </tr>\n",
              "    <tr>\n",
              "      <th>Gradient Boosted</th>\n",
              "      <td>1150.73</td>\n",
              "      <td>1623.78</td>\n",
              "    </tr>\n",
              "    <tr>\n",
              "      <th>Baseline</th>\n",
              "      <td>2149.01</td>\n",
              "      <td>2629.91</td>\n",
              "    </tr>\n",
              "    <tr>\n",
              "      <th>Bayesian LR</th>\n",
              "      <td>1897.17</td>\n",
              "      <td>2635.28</td>\n",
              "    </tr>\n",
              "  </tbody>\n",
              "</table>\n",
              "</div>"
            ],
            "text/plain": [
              "                           MAE     RMSE\n",
              "Linear Regression      1343.64  1928.19\n",
              "ElasticNet Regression   1761.9  2125.87\n",
              "Random Forest          1047.95  1594.33\n",
              "Extra Trees            1046.52  1593.92\n",
              "SVM                    2035.16  2477.41\n",
              "Gradient Boosted       1150.73  1623.78\n",
              "Baseline               2149.01  2629.91\n",
              "Bayesian LR            1897.17  2635.28"
            ]
          },
          "metadata": {
            "tags": []
          },
          "execution_count": 104
        }
      ]
    }
  ]
}